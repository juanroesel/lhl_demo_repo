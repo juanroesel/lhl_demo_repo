{
 "cells": [
  {
   "cell_type": "code",
   "execution_count": 1,
   "id": "2cf79d35-2065-4001-8bbe-849e145620f8",
   "metadata": {},
   "outputs": [
    {
     "name": "stdout",
     "output_type": "stream",
     "text": [
      "hello beautiful lhl people\n"
     ]
    }
   ],
   "source": [
    "print(\"hello beautiful lhl people\")"
   ]
  },
  {
   "cell_type": "code",
   "execution_count": 1,
   "id": "49d4f661-0b16-49e7-b8f0-191efc349e4f",
   "metadata": {},
   "outputs": [
    {
     "name": "stdout",
     "output_type": "stream",
     "text": [
      "breaking things is fun\n"
     ]
    }
   ],
   "source": [
    "print('breaking things is fun')"
   ]
  },
  {
   "cell_type": "code",
   "execution_count": 1,
   "id": "6e6128bb",
   "metadata": {},
   "outputs": [
    {
     "name": "stdout",
     "output_type": "stream",
     "text": [
      "extra breaking things yipee\n"
     ]
    }
   ],
   "source": [
    "print('extra breaking things yipee')"
   ]
  },
  {
   "cell_type": "code",
   "execution_count": 1,
   "id": "cd4f76c2-c3ef-45aa-a0fe-378bb9e279f6",
   "metadata": {},
   "outputs": [
    {
     "name": "stdout",
     "output_type": "stream",
     "text": [
      "extra breaking things yipee\n"
     ]
    }
   ],
   "source": [
    "print('extra breaking things yipee')"
   ]
  },
  {
   "cell_type": "code",
   "execution_count": null,
   "id": "ba1d8ef9-e107-46e1-9266-0d015dbb9ba2",
   "metadata": {},
   "outputs": [],
   "source": []
  }
 ],
 "metadata": {
  "kernelspec": {
   "display_name": "Python 3 (ipykernel)",
   "language": "python",
   "name": "python3"
  },
  "language_info": {
   "codemirror_mode": {
    "name": "ipython",
    "version": 3
   },
   "file_extension": ".py",
   "mimetype": "text/x-python",
   "name": "python",
   "nbconvert_exporter": "python",
   "pygments_lexer": "ipython3",
   "version": "3.8.8"
  },
  "vscode": {
   "interpreter": {
    "hash": "916dbcbb3f70747c44a77c7bcd40155683ae19c65e1c03b4aa3499c5328201f1"
   }
  }
 },
 "nbformat": 4,
 "nbformat_minor": 5
}
